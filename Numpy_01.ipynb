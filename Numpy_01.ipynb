{
  "nbformat": 4,
  "nbformat_minor": 0,
  "metadata": {
    "colab": {
      "provenance": [],
      "authorship_tag": "ABX9TyNZUzNIJygHZ3Ry2KnfZPzQ",
      "include_colab_link": true
    },
    "kernelspec": {
      "name": "python3",
      "display_name": "Python 3"
    },
    "language_info": {
      "name": "python"
    }
  },
  "cells": [
    {
      "cell_type": "markdown",
      "metadata": {
        "id": "view-in-github",
        "colab_type": "text"
      },
      "source": [
        "<a href=\"https://colab.research.google.com/github/gjuliao/Numpy_01/blob/main/Numpy_01.ipynb\" target=\"_parent\"><img src=\"https://colab.research.google.com/assets/colab-badge.svg\" alt=\"Open In Colab\"/></a>"
      ]
    },
    {
      "cell_type": "code",
      "execution_count": 4,
      "metadata": {
        "id": "NrQkexGkX_8Z"
      },
      "outputs": [],
      "source": [
        "# 1. import numpy\n",
        "import numpy as np"
      ]
    },
    {
      "cell_type": "code",
      "source": [
        "# 2. getting version of numpy\n",
        "np.version.version"
      ],
      "metadata": {
        "colab": {
          "base_uri": "https://localhost:8080/",
          "height": 35
        },
        "id": "2wg1XAxjZIdq",
        "outputId": "1e88a9f7-056a-4143-81a3-716bedd5dee6"
      },
      "execution_count": 9,
      "outputs": [
        {
          "output_type": "execute_result",
          "data": {
            "text/plain": [
              "'1.26.4'"
            ],
            "application/vnd.google.colaboratory.intrinsic+json": {
              "type": "string"
            }
          },
          "metadata": {},
          "execution_count": 9
        }
      ]
    },
    {
      "cell_type": "code",
      "source": [
        "# 3. creating an array of zeros with length 10\n",
        "y = np.zeros(10)\n",
        "print(y)"
      ],
      "metadata": {
        "colab": {
          "base_uri": "https://localhost:8080/"
        },
        "id": "TXQFKIiHZT6D",
        "outputId": "8b4d765b-afc8-4d3f-b09f-4f641f00d0d6"
      },
      "execution_count": 10,
      "outputs": [
        {
          "output_type": "stream",
          "name": "stdout",
          "text": [
            "[0. 0. 0. 0. 0. 0. 0. 0. 0. 0.]\n"
          ]
        }
      ]
    },
    {
      "cell_type": "code",
      "source": [
        "# 4. getting information of numpy add function\n",
        "np.info(np.add)"
      ],
      "metadata": {
        "colab": {
          "base_uri": "https://localhost:8080/"
        },
        "collapsed": true,
        "id": "5IOJU6I3ZrNv",
        "outputId": "41ae85ee-7adb-4f61-ddfb-57e2607148e9"
      },
      "execution_count": 18,
      "outputs": [
        {
          "output_type": "stream",
          "name": "stdout",
          "text": [
            "add(x1, x2, /, out=None, *, where=True, casting='same_kind', order='K', dtype=None, subok=True[, signature, extobj])\n",
            "\n",
            "Add arguments element-wise.\n",
            "\n",
            "Parameters\n",
            "----------\n",
            "x1, x2 : array_like\n",
            "    The arrays to be added.\n",
            "    If ``x1.shape != x2.shape``, they must be broadcastable to a common\n",
            "    shape (which becomes the shape of the output).\n",
            "out : ndarray, None, or tuple of ndarray and None, optional\n",
            "    A location into which the result is stored. If provided, it must have\n",
            "    a shape that the inputs broadcast to. If not provided or None,\n",
            "    a freshly-allocated array is returned. A tuple (possible only as a\n",
            "    keyword argument) must have length equal to the number of outputs.\n",
            "where : array_like, optional\n",
            "    This condition is broadcast over the input. At locations where the\n",
            "    condition is True, the `out` array will be set to the ufunc result.\n",
            "    Elsewhere, the `out` array will retain its original value.\n",
            "    Note that if an uninitialized `out` array is created via the default\n",
            "    ``out=None``, locations within it where the condition is False will\n",
            "    remain uninitialized.\n",
            "**kwargs\n",
            "    For other keyword-only arguments, see the\n",
            "    :ref:`ufunc docs <ufuncs.kwargs>`.\n",
            "\n",
            "Returns\n",
            "-------\n",
            "add : ndarray or scalar\n",
            "    The sum of `x1` and `x2`, element-wise.\n",
            "    This is a scalar if both `x1` and `x2` are scalars.\n",
            "\n",
            "Notes\n",
            "-----\n",
            "Equivalent to `x1` + `x2` in terms of array broadcasting.\n",
            "\n",
            "Examples\n",
            "--------\n",
            ">>> np.add(1.0, 4.0)\n",
            "5.0\n",
            ">>> x1 = np.arange(9.0).reshape((3, 3))\n",
            ">>> x2 = np.arange(3.0)\n",
            ">>> np.add(x1, x2)\n",
            "array([[  0.,   2.,   4.],\n",
            "       [  3.,   5.,   7.],\n",
            "       [  6.,   8.,  10.]])\n",
            "\n",
            "The ``+`` operator can be used as a shorthand for ``np.add`` on ndarrays.\n",
            "\n",
            ">>> x1 = np.arange(9.0).reshape((3, 3))\n",
            ">>> x2 = np.arange(3.0)\n",
            ">>> x1 + x2\n",
            "array([[ 0.,  2.,  4.],\n",
            "       [ 3.,  5.,  7.],\n",
            "       [ 6.,  8., 10.]])\n"
          ]
        }
      ]
    },
    {
      "cell_type": "code",
      "source": [
        "# 5. find memory size of an array\n",
        "z = y.itemsize * y.size\n",
        "print(z)"
      ],
      "metadata": {
        "colab": {
          "base_uri": "https://localhost:8080/"
        },
        "id": "dJKxDKd7agtA",
        "outputId": "619452df-44e4-4286-f404-95f182d56bc6"
      },
      "execution_count": 20,
      "outputs": [
        {
          "output_type": "stream",
          "name": "stdout",
          "text": [
            "80\n"
          ]
        }
      ]
    },
    {
      "cell_type": "code",
      "source": [
        "# 6. Create a null vector of size 10 but the fifth value which is 1\n",
        "null_vector = np.zeros(10)\n",
        "print(null_vector)\n",
        "null_vector[4] = 1\n",
        "print(null_vector)"
      ],
      "metadata": {
        "colab": {
          "base_uri": "https://localhost:8080/"
        },
        "id": "MkAFyeYEdMSW",
        "outputId": "122c9922-718d-4714-b178-eb079b477243"
      },
      "execution_count": 21,
      "outputs": [
        {
          "output_type": "stream",
          "name": "stdout",
          "text": [
            "[0. 0. 0. 0. 0. 0. 0. 0. 0. 0.]\n",
            "[0. 0. 0. 0. 1. 0. 0. 0. 0. 0.]\n"
          ]
        }
      ]
    },
    {
      "cell_type": "code",
      "source": [
        "# 7. vector from 10 to 50\n",
        "vector = np.arange(10, 50)\n",
        "print(vector)"
      ],
      "metadata": {
        "colab": {
          "base_uri": "https://localhost:8080/"
        },
        "id": "b7KJnAObd--Z",
        "outputId": "b4f0681d-3cf0-493c-f6bd-26ca0f6bc91a"
      },
      "execution_count": 22,
      "outputs": [
        {
          "output_type": "stream",
          "name": "stdout",
          "text": [
            "[10 11 12 13 14 15 16 17 18 19 20 21 22 23 24 25 26 27 28 29 30 31 32 33\n",
            " 34 35 36 37 38 39 40 41 42 43 44 45 46 47 48 49]\n"
          ]
        }
      ]
    },
    {
      "cell_type": "code",
      "source": [
        "# 8.  reverse vector\n",
        "reverse_vector = vector[::-1]\n",
        "print(reverse_vector)"
      ],
      "metadata": {
        "colab": {
          "base_uri": "https://localhost:8080/"
        },
        "id": "H0zVDi4zeSjU",
        "outputId": "cbd5eadb-6fee-4f12-a321-2527c63f61a5"
      },
      "execution_count": 25,
      "outputs": [
        {
          "output_type": "stream",
          "name": "stdout",
          "text": [
            "[49 48 47 46 45 44 43 42 41 40 39 38 37 36 35 34 33 32 31 30 29 28 27 26\n",
            " 25 24 23 22 21 20 19 18 17 16 15 14 13 12 11 10]\n"
          ]
        }
      ]
    },
    {
      "cell_type": "code",
      "source": [
        "# 9. vector with every 2 starting from index 0\n",
        "other_vector = vector[::2]\n",
        "print(other_vector)"
      ],
      "metadata": {
        "colab": {
          "base_uri": "https://localhost:8080/"
        },
        "id": "FWQQCGQ7ebyq",
        "outputId": "9a0a67c6-c227-4d2c-f651-79e0acd83afe"
      },
      "execution_count": 29,
      "outputs": [
        {
          "output_type": "stream",
          "name": "stdout",
          "text": [
            "[10 11 12 13 14 15 16 17 18 19 20 21 22 23 24 25 26 27 28 29 30 31 32 33\n",
            " 34 35 36 37 38 39 40 41 42 43 44 45 46 47 48 49]\n"
          ]
        }
      ]
    },
    {
      "cell_type": "code",
      "source": [
        "# 10. Create a 3x3 matrix with values ranging from 0 to 8\n",
        "matrix = np.arange(0, 9).reshape(3, 3)\n",
        "print(matrix)"
      ],
      "metadata": {
        "colab": {
          "base_uri": "https://localhost:8080/"
        },
        "id": "qqTjjYYjfMS2",
        "outputId": "76dcc254-e1ee-4d06-c43b-b861261df80e"
      },
      "execution_count": 30,
      "outputs": [
        {
          "output_type": "stream",
          "name": "stdout",
          "text": [
            "[[0 1 2]\n",
            " [3 4 5]\n",
            " [6 7 8]]\n"
          ]
        }
      ]
    },
    {
      "cell_type": "code",
      "source": [
        "# 10.1 creating an array\n",
        "matrix2 = np.array([[0, 1, 2], [3, 4, 5], [6, 7, 8]])\n",
        "print(matrix2)"
      ],
      "metadata": {
        "colab": {
          "base_uri": "https://localhost:8080/"
        },
        "id": "e_f_Uhz0pTpL",
        "outputId": "cf376a63-e596-4084-adea-339f9afea3ed"
      },
      "execution_count": 47,
      "outputs": [
        {
          "output_type": "stream",
          "name": "stdout",
          "text": [
            "[[0 1 2]\n",
            " [3 4 5]\n",
            " [6 7 8]]\n"
          ]
        }
      ]
    },
    {
      "cell_type": "code",
      "source": [
        "# 10.3 creating an array with a reshape of 4x3\n",
        "array2_increasing = np.arange(12).reshape(4, 3)\n",
        "print(random_array2)"
      ],
      "metadata": {
        "colab": {
          "base_uri": "https://localhost:8080/"
        },
        "id": "xKy2ebRMqYZ3",
        "outputId": "cd5f6cf7-6c25-4951-ba7a-0bf041ecb0d1"
      },
      "execution_count": 55,
      "outputs": [
        {
          "output_type": "stream",
          "name": "stdout",
          "text": [
            "[[ 0  1  2]\n",
            " [ 3  4  5]\n",
            " [ 6  7  8]\n",
            " [ 9 10 11]]\n"
          ]
        }
      ]
    },
    {
      "cell_type": "code",
      "source": [
        "# 10.4 creating a random array of 5 elements under variable a, other one of b and multiplying it\n",
        "a = np.random.randint(1, 10, size=5)\n",
        "print('This is array a: ', a)\n",
        "b = np.random.randint(2, 5, size=5)\n",
        "print('This is array b: ', b)\n",
        "c = np.dot(a, b)\n",
        "print('This is the dot product of a and b: ', c)"
      ],
      "metadata": {
        "colab": {
          "base_uri": "https://localhost:8080/"
        },
        "id": "j3J_n3AQsCWO",
        "outputId": "3d9e563c-c93a-4e40-dcdf-0d500349f529"
      },
      "execution_count": 71,
      "outputs": [
        {
          "output_type": "stream",
          "name": "stdout",
          "text": [
            "This is array a:  [9 9 6 8 5]\n",
            "This is array b:  [3 3 4 4 2]\n",
            "This is the dot product of a and b:  120\n"
          ]
        }
      ]
    },
    {
      "cell_type": "code",
      "source": [
        "# 10.4 creating an array of random values between 1 and 15 of length 11\n",
        "random_array2 = np.random.randint(1, 15, size=11)\n",
        "print(random_array2)"
      ],
      "metadata": {
        "colab": {
          "base_uri": "https://localhost:8080/"
        },
        "id": "7V5AqX6_qYYs",
        "outputId": "c6e0a00c-1b81-429f-a864-ecd286b833ba"
      },
      "execution_count": 61,
      "outputs": [
        {
          "output_type": "stream",
          "name": "stdout",
          "text": [
            "[14 10  8  2 12  7  2  1  1  5 12]\n"
          ]
        }
      ]
    },
    {
      "cell_type": "code",
      "source": [
        "# Find indices of non-zero elements from [1,2,0,0,4,0]\n",
        "indices = np.nonzero([1, 2, 0, 0, 4, 0])\n",
        "print(indices)"
      ],
      "metadata": {
        "colab": {
          "base_uri": "https://localhost:8080/"
        },
        "id": "jPZrRI71fcA4",
        "outputId": "b4f8e3f1-c510-4beb-f97c-5b8b4513fd48"
      },
      "execution_count": 34,
      "outputs": [
        {
          "output_type": "stream",
          "name": "stdout",
          "text": [
            "(array([0, 1, 4]),)\n"
          ]
        }
      ]
    },
    {
      "cell_type": "code",
      "source": [
        "# Create a 3x3 identity matrix\n",
        "identity_matrix = np.eye(3)\n",
        "print(identity_matrix)"
      ],
      "metadata": {
        "colab": {
          "base_uri": "https://localhost:8080/"
        },
        "id": "IWsgb0xYf8nj",
        "outputId": "d4f08c60-a1af-4dc4-f561-4e097342e927"
      },
      "execution_count": 35,
      "outputs": [
        {
          "output_type": "stream",
          "name": "stdout",
          "text": [
            "[[1. 0. 0.]\n",
            " [0. 1. 0.]\n",
            " [0. 0. 1.]]\n"
          ]
        }
      ]
    },
    {
      "cell_type": "code",
      "source": [
        "# Create a 3x3x3 array with random values\n",
        "random_array = np.random.random((3, 3, 3))\n",
        "print(random_array)"
      ],
      "metadata": {
        "colab": {
          "base_uri": "https://localhost:8080/"
        },
        "id": "NMqtxKAMgjHI",
        "outputId": "66edef92-c77a-4c7d-9e90-8afd618d9fef"
      },
      "execution_count": 36,
      "outputs": [
        {
          "output_type": "stream",
          "name": "stdout",
          "text": [
            "[[[0.85721293 0.39873629 0.33705503]\n",
            "  [0.56550736 0.4261887  0.53991488]\n",
            "  [0.98586801 0.28209295 0.83033892]]\n",
            "\n",
            " [[0.32203193 0.07297393 0.03637563]\n",
            "  [0.78344748 0.99127273 0.40358103]\n",
            "  [0.11411924 0.41985618 0.69619068]]\n",
            "\n",
            " [[0.21211309 0.16752791 0.78593411]\n",
            "  [0.17285561 0.68467852 0.994883  ]\n",
            "  [0.56738848 0.15137026 0.61491462]]]\n"
          ]
        }
      ]
    },
    {
      "cell_type": "code",
      "source": [
        "# function to create 4 arrays of 3x4\n",
        "random_array2 = np.random.random((4, 3, 4))\n",
        "print(random_array2)"
      ],
      "metadata": {
        "colab": {
          "base_uri": "https://localhost:8080/"
        },
        "collapsed": true,
        "id": "mOdjopIxg6Tq",
        "outputId": "1c521483-3eb4-448f-8a0c-767d4f27c553"
      },
      "execution_count": 45,
      "outputs": [
        {
          "output_type": "stream",
          "name": "stdout",
          "text": [
            "[[[0.60995023 0.07543936 0.35653106 0.86449397]\n",
            "  [0.31185422 0.88891524 0.16178221 0.32837217]\n",
            "  [0.43922269 0.99571417 0.63598489 0.77178999]]\n",
            "\n",
            " [[0.23609068 0.29114618 0.1157541  0.32714416]\n",
            "  [0.31128653 0.88874348 0.28471405 0.74108067]\n",
            "  [0.83062066 0.63427948 0.47359187 0.2196655 ]]\n",
            "\n",
            " [[0.151592   0.65910557 0.91944361 0.66673453]\n",
            "  [0.56744315 0.82833453 0.02438754 0.87284697]\n",
            "  [0.11619677 0.53106228 0.79404656 0.42279732]]\n",
            "\n",
            " [[0.63470065 0.26495341 0.76887886 0.95436413]\n",
            "  [0.93182499 0.99369972 0.76564787 0.9068713 ]\n",
            "  [0.30727    0.72401054 0.18517509 0.87449945]]]\n"
          ]
        }
      ]
    },
    {
      "cell_type": "code",
      "source": [],
      "metadata": {
        "id": "Ji63Mzc3o9sd"
      },
      "execution_count": null,
      "outputs": []
    }
  ]
}