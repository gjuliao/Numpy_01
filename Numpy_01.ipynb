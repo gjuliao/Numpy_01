{
  "nbformat": 4,
  "nbformat_minor": 0,
  "metadata": {
    "colab": {
      "provenance": [],
      "authorship_tag": "ABX9TyNbWKYFkOSv+yNtxNPtw7Qa",
      "include_colab_link": true
    },
    "kernelspec": {
      "name": "python3",
      "display_name": "Python 3"
    },
    "language_info": {
      "name": "python"
    }
  },
  "cells": [
    {
      "cell_type": "markdown",
      "metadata": {
        "id": "view-in-github",
        "colab_type": "text"
      },
      "source": [
        "<a href=\"https://colab.research.google.com/github/gjuliao/Numpy_01/blob/main/Numpy_01.ipynb\" target=\"_parent\"><img src=\"https://colab.research.google.com/assets/colab-badge.svg\" alt=\"Open In Colab\"/></a>"
      ]
    },
    {
      "cell_type": "code",
      "execution_count": 4,
      "metadata": {
        "id": "NrQkexGkX_8Z"
      },
      "outputs": [],
      "source": [
        "# 1. import numpy\n",
        "import numpy as np"
      ]
    },
    {
      "cell_type": "code",
      "source": [
        "# 2. getting version of numpy\n",
        "np.version.version"
      ],
      "metadata": {
        "colab": {
          "base_uri": "https://localhost:8080/",
          "height": 35
        },
        "id": "2wg1XAxjZIdq",
        "outputId": "1e88a9f7-056a-4143-81a3-716bedd5dee6"
      },
      "execution_count": 9,
      "outputs": [
        {
          "output_type": "execute_result",
          "data": {
            "text/plain": [
              "'1.26.4'"
            ],
            "application/vnd.google.colaboratory.intrinsic+json": {
              "type": "string"
            }
          },
          "metadata": {},
          "execution_count": 9
        }
      ]
    },
    {
      "cell_type": "code",
      "source": [
        "# 3. creating an array of zeros with length 10\n",
        "y = np.zeros(10)\n",
        "print(y)"
      ],
      "metadata": {
        "colab": {
          "base_uri": "https://localhost:8080/"
        },
        "id": "TXQFKIiHZT6D",
        "outputId": "8b4d765b-afc8-4d3f-b09f-4f641f00d0d6"
      },
      "execution_count": 10,
      "outputs": [
        {
          "output_type": "stream",
          "name": "stdout",
          "text": [
            "[0. 0. 0. 0. 0. 0. 0. 0. 0. 0.]\n"
          ]
        }
      ]
    },
    {
      "cell_type": "code",
      "source": [
        "# 4. getting information of numpy add function\n",
        "np.info(np.add)"
      ],
      "metadata": {
        "colab": {
          "base_uri": "https://localhost:8080/"
        },
        "collapsed": true,
        "id": "5IOJU6I3ZrNv",
        "outputId": "41ae85ee-7adb-4f61-ddfb-57e2607148e9"
      },
      "execution_count": 18,
      "outputs": [
        {
          "output_type": "stream",
          "name": "stdout",
          "text": [
            "add(x1, x2, /, out=None, *, where=True, casting='same_kind', order='K', dtype=None, subok=True[, signature, extobj])\n",
            "\n",
            "Add arguments element-wise.\n",
            "\n",
            "Parameters\n",
            "----------\n",
            "x1, x2 : array_like\n",
            "    The arrays to be added.\n",
            "    If ``x1.shape != x2.shape``, they must be broadcastable to a common\n",
            "    shape (which becomes the shape of the output).\n",
            "out : ndarray, None, or tuple of ndarray and None, optional\n",
            "    A location into which the result is stored. If provided, it must have\n",
            "    a shape that the inputs broadcast to. If not provided or None,\n",
            "    a freshly-allocated array is returned. A tuple (possible only as a\n",
            "    keyword argument) must have length equal to the number of outputs.\n",
            "where : array_like, optional\n",
            "    This condition is broadcast over the input. At locations where the\n",
            "    condition is True, the `out` array will be set to the ufunc result.\n",
            "    Elsewhere, the `out` array will retain its original value.\n",
            "    Note that if an uninitialized `out` array is created via the default\n",
            "    ``out=None``, locations within it where the condition is False will\n",
            "    remain uninitialized.\n",
            "**kwargs\n",
            "    For other keyword-only arguments, see the\n",
            "    :ref:`ufunc docs <ufuncs.kwargs>`.\n",
            "\n",
            "Returns\n",
            "-------\n",
            "add : ndarray or scalar\n",
            "    The sum of `x1` and `x2`, element-wise.\n",
            "    This is a scalar if both `x1` and `x2` are scalars.\n",
            "\n",
            "Notes\n",
            "-----\n",
            "Equivalent to `x1` + `x2` in terms of array broadcasting.\n",
            "\n",
            "Examples\n",
            "--------\n",
            ">>> np.add(1.0, 4.0)\n",
            "5.0\n",
            ">>> x1 = np.arange(9.0).reshape((3, 3))\n",
            ">>> x2 = np.arange(3.0)\n",
            ">>> np.add(x1, x2)\n",
            "array([[  0.,   2.,   4.],\n",
            "       [  3.,   5.,   7.],\n",
            "       [  6.,   8.,  10.]])\n",
            "\n",
            "The ``+`` operator can be used as a shorthand for ``np.add`` on ndarrays.\n",
            "\n",
            ">>> x1 = np.arange(9.0).reshape((3, 3))\n",
            ">>> x2 = np.arange(3.0)\n",
            ">>> x1 + x2\n",
            "array([[ 0.,  2.,  4.],\n",
            "       [ 3.,  5.,  7.],\n",
            "       [ 6.,  8., 10.]])\n"
          ]
        }
      ]
    },
    {
      "cell_type": "code",
      "source": [
        "# 5. find memory size of an array\n",
        "z = y.itemsize * y.size\n",
        "print(z)"
      ],
      "metadata": {
        "colab": {
          "base_uri": "https://localhost:8080/"
        },
        "id": "dJKxDKd7agtA",
        "outputId": "619452df-44e4-4286-f404-95f182d56bc6"
      },
      "execution_count": 20,
      "outputs": [
        {
          "output_type": "stream",
          "name": "stdout",
          "text": [
            "80\n"
          ]
        }
      ]
    },
    {
      "cell_type": "code",
      "source": [
        "# 6. Create a null vector of size 10 but the fifth value which is 1\n",
        "null_vector = np.zeros(10)\n",
        "print(null_vector)\n",
        "null_vector[4] = 1\n",
        "print(null_vector)"
      ],
      "metadata": {
        "colab": {
          "base_uri": "https://localhost:8080/"
        },
        "id": "MkAFyeYEdMSW",
        "outputId": "122c9922-718d-4714-b178-eb079b477243"
      },
      "execution_count": 21,
      "outputs": [
        {
          "output_type": "stream",
          "name": "stdout",
          "text": [
            "[0. 0. 0. 0. 0. 0. 0. 0. 0. 0.]\n",
            "[0. 0. 0. 0. 1. 0. 0. 0. 0. 0.]\n"
          ]
        }
      ]
    },
    {
      "cell_type": "code",
      "source": [
        "# 7. vector from 10 to 50\n",
        "vector = np.arange(10, 50)\n",
        "print(vector)"
      ],
      "metadata": {
        "colab": {
          "base_uri": "https://localhost:8080/"
        },
        "id": "b7KJnAObd--Z",
        "outputId": "b4f0681d-3cf0-493c-f6bd-26ca0f6bc91a"
      },
      "execution_count": 22,
      "outputs": [
        {
          "output_type": "stream",
          "name": "stdout",
          "text": [
            "[10 11 12 13 14 15 16 17 18 19 20 21 22 23 24 25 26 27 28 29 30 31 32 33\n",
            " 34 35 36 37 38 39 40 41 42 43 44 45 46 47 48 49]\n"
          ]
        }
      ]
    },
    {
      "cell_type": "code",
      "source": [
        "# 8.  reverse vector\n",
        "reverse_vector = vector[::-1]\n",
        "print(reverse_vector)"
      ],
      "metadata": {
        "colab": {
          "base_uri": "https://localhost:8080/"
        },
        "id": "H0zVDi4zeSjU",
        "outputId": "cbd5eadb-6fee-4f12-a321-2527c63f61a5"
      },
      "execution_count": 25,
      "outputs": [
        {
          "output_type": "stream",
          "name": "stdout",
          "text": [
            "[49 48 47 46 45 44 43 42 41 40 39 38 37 36 35 34 33 32 31 30 29 28 27 26\n",
            " 25 24 23 22 21 20 19 18 17 16 15 14 13 12 11 10]\n"
          ]
        }
      ]
    },
    {
      "cell_type": "code",
      "source": [
        "# 9. vector with every 2 starting from index 0\n",
        "other_vector = vector[::2]\n",
        "print(other_vector)"
      ],
      "metadata": {
        "colab": {
          "base_uri": "https://localhost:8080/"
        },
        "id": "FWQQCGQ7ebyq",
        "outputId": "9a0a67c6-c227-4d2c-f651-79e0acd83afe"
      },
      "execution_count": 29,
      "outputs": [
        {
          "output_type": "stream",
          "name": "stdout",
          "text": [
            "[10 11 12 13 14 15 16 17 18 19 20 21 22 23 24 25 26 27 28 29 30 31 32 33\n",
            " 34 35 36 37 38 39 40 41 42 43 44 45 46 47 48 49]\n"
          ]
        }
      ]
    },
    {
      "cell_type": "code",
      "source": [
        "# 10. Create a 3x3 matrix with values ranging from 0 to 8\n",
        "matrix = np.arange(0, 9).reshape(3, 3)\n",
        "print(matrix)"
      ],
      "metadata": {
        "colab": {
          "base_uri": "https://localhost:8080/"
        },
        "id": "qqTjjYYjfMS2",
        "outputId": "76dcc254-e1ee-4d06-c43b-b861261df80e"
      },
      "execution_count": 30,
      "outputs": [
        {
          "output_type": "stream",
          "name": "stdout",
          "text": [
            "[[0 1 2]\n",
            " [3 4 5]\n",
            " [6 7 8]]\n"
          ]
        }
      ]
    },
    {
      "cell_type": "code",
      "source": [
        "# 10.1 creating an array\n",
        "matrix2 = np.array([[0, 1, 2], [3, 4, 5], [6, 7, 8]])\n",
        "print(matrix2)"
      ],
      "metadata": {
        "colab": {
          "base_uri": "https://localhost:8080/"
        },
        "id": "e_f_Uhz0pTpL",
        "outputId": "cf376a63-e596-4084-adea-339f9afea3ed"
      },
      "execution_count": 47,
      "outputs": [
        {
          "output_type": "stream",
          "name": "stdout",
          "text": [
            "[[0 1 2]\n",
            " [3 4 5]\n",
            " [6 7 8]]\n"
          ]
        }
      ]
    },
    {
      "cell_type": "code",
      "source": [
        "# 10.3 creating an array with a reshape of 4x3\n",
        "array2_increasing = np.arange(12).reshape(4, 3)\n",
        "print(random_array2)"
      ],
      "metadata": {
        "colab": {
          "base_uri": "https://localhost:8080/"
        },
        "id": "xKy2ebRMqYZ3",
        "outputId": "cd5f6cf7-6c25-4951-ba7a-0bf041ecb0d1"
      },
      "execution_count": 55,
      "outputs": [
        {
          "output_type": "stream",
          "name": "stdout",
          "text": [
            "[[ 0  1  2]\n",
            " [ 3  4  5]\n",
            " [ 6  7  8]\n",
            " [ 9 10 11]]\n"
          ]
        }
      ]
    },
    {
      "cell_type": "code",
      "source": [
        "# 10.4 creating a random array of 5 elements under variable a, other one of b and multiplying it\n",
        "a = np.random.randint(1, 10, size=5)\n",
        "print('This is array a: ', a)\n",
        "b = np.random.randint(2, 5, size=5)\n",
        "print('This is array b: ', b)\n",
        "c = np.dot(a, b)\n",
        "print('This is the dot product of a and b: ', c)"
      ],
      "metadata": {
        "colab": {
          "base_uri": "https://localhost:8080/"
        },
        "id": "j3J_n3AQsCWO",
        "outputId": "3d9e563c-c93a-4e40-dcdf-0d500349f529"
      },
      "execution_count": 71,
      "outputs": [
        {
          "output_type": "stream",
          "name": "stdout",
          "text": [
            "This is array a:  [9 9 6 8 5]\n",
            "This is array b:  [3 3 4 4 2]\n",
            "This is the dot product of a and b:  120\n"
          ]
        }
      ]
    },
    {
      "cell_type": "code",
      "source": [
        "# 10.4 creating an array of random values between 1 and 15 of length 11\n",
        "random_array2 = np.random.randint(1, 15, size=11)\n",
        "print(random_array2)"
      ],
      "metadata": {
        "colab": {
          "base_uri": "https://localhost:8080/"
        },
        "id": "7V5AqX6_qYYs",
        "outputId": "c6e0a00c-1b81-429f-a864-ecd286b833ba"
      },
      "execution_count": 61,
      "outputs": [
        {
          "output_type": "stream",
          "name": "stdout",
          "text": [
            "[14 10  8  2 12  7  2  1  1  5 12]\n"
          ]
        }
      ]
    },
    {
      "cell_type": "code",
      "source": [
        "# 11. Find indices of non-zero elements from [1,2,0,0,4,0]\n",
        "indices = np.nonzero([1, 2, 0, 0, 4, 0])\n",
        "print(indices)"
      ],
      "metadata": {
        "colab": {
          "base_uri": "https://localhost:8080/"
        },
        "id": "jPZrRI71fcA4",
        "outputId": "b4f8e3f1-c510-4beb-f97c-5b8b4513fd48"
      },
      "execution_count": 34,
      "outputs": [
        {
          "output_type": "stream",
          "name": "stdout",
          "text": [
            "(array([0, 1, 4]),)\n"
          ]
        }
      ]
    },
    {
      "cell_type": "code",
      "source": [
        "# 13.  Create a 3x3 identity matrix\n",
        "identity_matrix = np.eye(3)\n",
        "print(identity_matrix)"
      ],
      "metadata": {
        "colab": {
          "base_uri": "https://localhost:8080/"
        },
        "id": "IWsgb0xYf8nj",
        "outputId": "d4f08c60-a1af-4dc4-f561-4e097342e927"
      },
      "execution_count": 35,
      "outputs": [
        {
          "output_type": "stream",
          "name": "stdout",
          "text": [
            "[[1. 0. 0.]\n",
            " [0. 1. 0.]\n",
            " [0. 0. 1.]]\n"
          ]
        }
      ]
    },
    {
      "cell_type": "code",
      "source": [
        "# 14. Create a 4x2x3 array with random values\n",
        "random_array = np.random.random((4, 2, 3))\n",
        "print(random_array)"
      ],
      "metadata": {
        "colab": {
          "base_uri": "https://localhost:8080/"
        },
        "id": "NMqtxKAMgjHI",
        "outputId": "aebe0426-d626-40d9-ef68-59a959988281"
      },
      "execution_count": 75,
      "outputs": [
        {
          "output_type": "stream",
          "name": "stdout",
          "text": [
            "[[[0.87080476 0.89751435 0.20607401]\n",
            "  [0.02157675 0.70978892 0.60788939]]\n",
            "\n",
            " [[0.99852191 0.94398093 0.7876507 ]\n",
            "  [0.98287005 0.42051072 0.74401624]]\n",
            "\n",
            " [[0.84071477 0.36101527 0.79868338]\n",
            "  [0.06399812 0.69797829 0.70639617]]\n",
            "\n",
            " [[0.91493087 0.54676652 0.4295209 ]\n",
            "  [0.48745566 0.29244422 0.90514005]]]\n"
          ]
        }
      ]
    },
    {
      "cell_type": "code",
      "source": [
        "# 15. function to create 4 arrays of 3x4\n",
        "random_array2 = np.random.random((4, 3, 4))\n",
        "print(random_array2)"
      ],
      "metadata": {
        "colab": {
          "base_uri": "https://localhost:8080/"
        },
        "collapsed": true,
        "id": "mOdjopIxg6Tq",
        "outputId": "1c521483-3eb4-448f-8a0c-767d4f27c553"
      },
      "execution_count": 45,
      "outputs": [
        {
          "output_type": "stream",
          "name": "stdout",
          "text": [
            "[[[0.60995023 0.07543936 0.35653106 0.86449397]\n",
            "  [0.31185422 0.88891524 0.16178221 0.32837217]\n",
            "  [0.43922269 0.99571417 0.63598489 0.77178999]]\n",
            "\n",
            " [[0.23609068 0.29114618 0.1157541  0.32714416]\n",
            "  [0.31128653 0.88874348 0.28471405 0.74108067]\n",
            "  [0.83062066 0.63427948 0.47359187 0.2196655 ]]\n",
            "\n",
            " [[0.151592   0.65910557 0.91944361 0.66673453]\n",
            "  [0.56744315 0.82833453 0.02438754 0.87284697]\n",
            "  [0.11619677 0.53106228 0.79404656 0.42279732]]\n",
            "\n",
            " [[0.63470065 0.26495341 0.76887886 0.95436413]\n",
            "  [0.93182499 0.99369972 0.76564787 0.9068713 ]\n",
            "  [0.30727    0.72401054 0.18517509 0.87449945]]]\n"
          ]
        }
      ]
    },
    {
      "cell_type": "code",
      "source": [
        "# 16. Create a 10x10 array with random values and find the minimum and maximum values\n",
        "array_tenby_ten = np.random.random((10, 10))\n",
        "min_value = np.min(array_tenby_ten)\n",
        "max_value = np.max(array_tenby_ten)\n",
        "print(\"Minimum value:\", min_value)\n",
        "print(\"Maximum value:\", max_value)\n",
        "print(array_tenby_ten)"
      ],
      "metadata": {
        "colab": {
          "base_uri": "https://localhost:8080/"
        },
        "id": "Ji63Mzc3o9sd",
        "outputId": "3bf72181-fc89-4ee2-fe86-f2a0d1460479"
      },
      "execution_count": 80,
      "outputs": [
        {
          "output_type": "stream",
          "name": "stdout",
          "text": [
            "Minimum value: 0.012027094633727309\n",
            "Maximum value: 0.9963269450247525\n",
            "[[0.51345564 0.89236412 0.98872454 0.17560874 0.72224662 0.07226514\n",
            "  0.70268366 0.85733473 0.70250487 0.35158368]\n",
            " [0.15153197 0.79965417 0.65861372 0.29115862 0.39416275 0.0743402\n",
            "  0.57770031 0.70076097 0.80158282 0.82379759]\n",
            " [0.6428184  0.42514348 0.92094345 0.98048648 0.66446056 0.98054392\n",
            "  0.88982364 0.27828978 0.22720067 0.54367803]\n",
            " [0.99632695 0.68875149 0.82846287 0.11888916 0.98370701 0.95544748\n",
            "  0.98941263 0.2571703  0.55169813 0.6468695 ]\n",
            " [0.01227314 0.43560608 0.07761872 0.13744363 0.39858248 0.67322932\n",
            "  0.85806645 0.40571807 0.22235913 0.87202259]\n",
            " [0.23052946 0.51177437 0.02481844 0.11051648 0.19966777 0.65444841\n",
            "  0.48291281 0.11383816 0.49472658 0.08173235]\n",
            " [0.64497473 0.6289236  0.19360122 0.86039231 0.3631201  0.65779002\n",
            "  0.43855978 0.32116261 0.32644414 0.79691119]\n",
            " [0.02215482 0.2501004  0.09205262 0.65459865 0.054402   0.34817606\n",
            "  0.19065672 0.87322972 0.78072017 0.82202256]\n",
            " [0.09010053 0.23604861 0.98082249 0.13864896 0.18288338 0.14473808\n",
            "  0.63013255 0.21911473 0.56260992 0.81560624]\n",
            " [0.84802317 0.73761374 0.10907449 0.1657804  0.18671242 0.48249419\n",
            "  0.90135511 0.79707326 0.01202709 0.05700413]]\n"
          ]
        }
      ]
    },
    {
      "cell_type": "code",
      "source": [
        "# 17. Random vector of size 30 and find mean value\n",
        "random_vector = np.random.random(30)\n",
        "print(random_vector)\n",
        "mean_value = np.mean(random_vector)\n",
        "print(\"Mean value:\", mean_value)"
      ],
      "metadata": {
        "colab": {
          "base_uri": "https://localhost:8080/"
        },
        "id": "vonS7vsOx9Ya",
        "outputId": "800df657-8106-4ff6-f80a-676d6fbc0f4f"
      },
      "execution_count": 82,
      "outputs": [
        {
          "output_type": "stream",
          "name": "stdout",
          "text": [
            "[0.61513886 0.13506845 0.6506666  0.17927634 0.1436265  0.65099767\n",
            " 0.7340116  0.88844524 0.62898874 0.03704128 0.79755296 0.40676852\n",
            " 0.705104   0.07572191 0.91324944 0.65246105 0.79626503 0.98530983\n",
            " 0.72269804 0.02027743 0.23014818 0.78312773 0.40419278 0.46144979\n",
            " 0.72015239 0.37821122 0.09734305 0.76303004 0.67830133 0.25028524]\n",
            "Mean value: 0.5168303733800536\n"
          ]
        }
      ]
    },
    {
      "cell_type": "code",
      "source": [
        "# 18. Create a 2d array with 1 on the border and 0 inside\n",
        "array_2d = np.ones((6, 6))\n",
        "array_2d[1:-1, 1:-1] = 0\n",
        "print(array_2d)"
      ],
      "metadata": {
        "colab": {
          "base_uri": "https://localhost:8080/"
        },
        "id": "7dW01rWByOEJ",
        "outputId": "4347f789-c788-48f4-e10e-f90a5732de87"
      },
      "execution_count": 84,
      "outputs": [
        {
          "output_type": "stream",
          "name": "stdout",
          "text": [
            "[[1. 1. 1. 1. 1. 1.]\n",
            " [1. 0. 0. 0. 0. 1.]\n",
            " [1. 0. 0. 0. 0. 1.]\n",
            " [1. 0. 0. 0. 0. 1.]\n",
            " [1. 0. 0. 0. 0. 1.]\n",
            " [1. 1. 1. 1. 1. 1.]]\n"
          ]
        }
      ]
    },
    {
      "cell_type": "code",
      "source": [
        "# 18.1\n",
        "zero_borders = np.zeros((6, 6))\n",
        "zero_borders[1:-1, 1:-1] = 1\n",
        "print(zero_borders)"
      ],
      "metadata": {
        "colab": {
          "base_uri": "https://localhost:8080/"
        },
        "id": "MnJs64g5PPIh",
        "outputId": "ca5cd66d-07a8-4061-eab5-dc246ddf3cb7"
      },
      "execution_count": 85,
      "outputs": [
        {
          "output_type": "stream",
          "name": "stdout",
          "text": [
            "[[0. 0. 0. 0. 0. 0.]\n",
            " [0. 1. 1. 1. 1. 0.]\n",
            " [0. 1. 1. 1. 1. 0.]\n",
            " [0. 1. 1. 1. 1. 0.]\n",
            " [0. 1. 1. 1. 1. 0.]\n",
            " [0. 0. 0. 0. 0. 0.]]\n"
          ]
        }
      ]
    },
    {
      "cell_type": "code",
      "source": [
        "0 * np.nan"
      ],
      "metadata": {
        "colab": {
          "base_uri": "https://localhost:8080/"
        },
        "id": "jKZgnxmRPoQ3",
        "outputId": "e556dd60-885d-4194-87fc-f858f5065964"
      },
      "execution_count": 86,
      "outputs": [
        {
          "output_type": "execute_result",
          "data": {
            "text/plain": [
              "nan"
            ]
          },
          "metadata": {},
          "execution_count": 86
        }
      ]
    },
    {
      "cell_type": "code",
      "source": [
        "np.nan == np.nan"
      ],
      "metadata": {
        "colab": {
          "base_uri": "https://localhost:8080/"
        },
        "id": "fmZk5Sv1PqOn",
        "outputId": "affef715-3e31-4e66-94db-3af04dad7379"
      },
      "execution_count": 87,
      "outputs": [
        {
          "output_type": "execute_result",
          "data": {
            "text/plain": [
              "False"
            ]
          },
          "metadata": {},
          "execution_count": 87
        }
      ]
    },
    {
      "cell_type": "code",
      "source": [
        "np.inf > np.nan"
      ],
      "metadata": {
        "colab": {
          "base_uri": "https://localhost:8080/"
        },
        "id": "wPm_ukMePvCh",
        "outputId": "c5ec45ef-0c52-43d6-f493-be6c623c06fe"
      },
      "execution_count": 92,
      "outputs": [
        {
          "output_type": "execute_result",
          "data": {
            "text/plain": [
              "False"
            ]
          },
          "metadata": {},
          "execution_count": 92
        }
      ]
    },
    {
      "cell_type": "code",
      "source": [
        "np.nan - np.nan"
      ],
      "metadata": {
        "colab": {
          "base_uri": "https://localhost:8080/"
        },
        "id": "3I72qIisP4pB",
        "outputId": "4b5d01cc-4af0-4de1-da79-3c21e69852b9"
      },
      "execution_count": 93,
      "outputs": [
        {
          "output_type": "execute_result",
          "data": {
            "text/plain": [
              "nan"
            ]
          },
          "metadata": {},
          "execution_count": 93
        }
      ]
    },
    {
      "cell_type": "code",
      "source": [
        "np.nan in set([np.nan])"
      ],
      "metadata": {
        "colab": {
          "base_uri": "https://localhost:8080/"
        },
        "id": "5kqRN0usP7-M",
        "outputId": "42f2c1ac-b8cf-4dce-8621-11509f606d4a"
      },
      "execution_count": 94,
      "outputs": [
        {
          "output_type": "execute_result",
          "data": {
            "text/plain": [
              "True"
            ]
          },
          "metadata": {},
          "execution_count": 94
        }
      ]
    },
    {
      "cell_type": "code",
      "source": [
        "0.3 == 3 * 0.1"
      ],
      "metadata": {
        "colab": {
          "base_uri": "https://localhost:8080/"
        },
        "id": "JgbTsi8LP_Rd",
        "outputId": "14a8c308-aae0-4c56-e7c6-1a890846e288"
      },
      "execution_count": 95,
      "outputs": [
        {
          "output_type": "execute_result",
          "data": {
            "text/plain": [
              "False"
            ]
          },
          "metadata": {},
          "execution_count": 95
        }
      ]
    },
    {
      "cell_type": "code",
      "source": [
        "# 19 what is the ending value\n",
        "0 * np.nan\n",
        "np.nan == np.nan\n",
        "np.inf > np.nan\n",
        "np.nan - np.nan\n",
        "np.nan in set([np.nan])\n",
        "0.3 == 3 * 0.1"
      ],
      "metadata": {
        "colab": {
          "base_uri": "https://localhost:8080/"
        },
        "id": "3VHCFEAvQEFB",
        "outputId": "a8e346ca-b1fa-4dc7-8647-0b930312764b"
      },
      "execution_count": 96,
      "outputs": [
        {
          "output_type": "execute_result",
          "data": {
            "text/plain": [
              "False"
            ]
          },
          "metadata": {},
          "execution_count": 96
        }
      ]
    },
    {
      "cell_type": "code",
      "source": [
        "# 20.  Printing the eye\n",
        "matrix = np.eye(5, 5)\n",
        "print(matrix)"
      ],
      "metadata": {
        "colab": {
          "base_uri": "https://localhost:8080/"
        },
        "id": "0p92RVDNQM9J",
        "outputId": "f05a3ce0-8ce8-4bf2-a4b3-d8cf574a5dc2"
      },
      "execution_count": 97,
      "outputs": [
        {
          "output_type": "stream",
          "name": "stdout",
          "text": [
            "[[1. 0. 0. 0. 0.]\n",
            " [0. 1. 0. 0. 0.]\n",
            " [0. 0. 1. 0. 0.]\n",
            " [0. 0. 0. 1. 0.]\n",
            " [0. 0. 0. 0. 1.]]\n"
          ]
        }
      ]
    },
    {
      "cell_type": "code",
      "source": [
        "# 21. Create a 5x5 matrix with values 1,2,3,4 just below the diagonal\n",
        "matrix = np.diag(1+np.arange(4), k=-1)\n",
        "print(matrix)"
      ],
      "metadata": {
        "colab": {
          "base_uri": "https://localhost:8080/"
        },
        "id": "-oJyv1y-QbiM",
        "outputId": "ea3af979-4b16-47d1-c7bc-48fe19e561c2"
      },
      "execution_count": 98,
      "outputs": [
        {
          "output_type": "stream",
          "name": "stdout",
          "text": [
            "[[0 0 0 0 0]\n",
            " [1 0 0 0 0]\n",
            " [0 2 0 0 0]\n",
            " [0 0 3 0 0]\n",
            " [0 0 0 4 0]]\n"
          ]
        }
      ]
    },
    {
      "cell_type": "code",
      "source": [
        "# 22.  Create a 8x8 matrix and fill it with a checkerboard pattern\n",
        "\n",
        "eight_by_eight = np.zeros((8, 8), dtype=int)\n",
        "eight_by_eight[1::2, ::2] = 1\n",
        "eight_by_eight[::2, 1::2] = 1\n",
        "print(eight_by_eight)"
      ],
      "metadata": {
        "colab": {
          "base_uri": "https://localhost:8080/"
        },
        "id": "jnlgIbpvRL1V",
        "outputId": "17dcf9ac-8760-41f6-8dfa-adcee122f487"
      },
      "execution_count": 102,
      "outputs": [
        {
          "output_type": "stream",
          "name": "stdout",
          "text": [
            "[[0 1 0 1 0 1 0 1]\n",
            " [1 0 1 0 1 0 1 0]\n",
            " [0 1 0 1 0 1 0 1]\n",
            " [1 0 1 0 1 0 1 0]\n",
            " [0 1 0 1 0 1 0 1]\n",
            " [1 0 1 0 1 0 1 0]\n",
            " [0 1 0 1 0 1 0 1]\n",
            " [1 0 1 0 1 0 1 0]]\n"
          ]
        }
      ]
    },
    {
      "cell_type": "code",
      "source": [
        "# 23. Consider a (6,7,8) shape array, what is the index (x,y,z) of the 100th element?\n",
        "array = np.unravel_index(100, (6, 7, 8))\n",
        "print(array)"
      ],
      "metadata": {
        "colab": {
          "base_uri": "https://localhost:8080/"
        },
        "id": "6QaB-gWvRpGK",
        "outputId": "8f90c7dc-1a6a-4c42-9228-6c85d650d2b9"
      },
      "execution_count": 117,
      "outputs": [
        {
          "output_type": "stream",
          "name": "stdout",
          "text": [
            "(14, 2)\n"
          ]
        }
      ]
    },
    {
      "cell_type": "code",
      "source": [
        "# 24. Create a checkerboard 8x8 matrix using the tile function\n",
        "checkerboard = np.array([[0, 1], [1, 0]])\n",
        "checkerboard_matrix = np.tile(checkerboard, (8, 8))\n",
        "print(checkerboard_matrix)"
      ],
      "metadata": {
        "colab": {
          "base_uri": "https://localhost:8080/"
        },
        "id": "KiNmW5MlVrrQ",
        "outputId": "d29ab263-f8c1-42c5-8e76-34d9ebdf19b3"
      },
      "execution_count": 122,
      "outputs": [
        {
          "output_type": "stream",
          "name": "stdout",
          "text": [
            "[[0 1 0 1 0 1 0 1 0 1 0 1 0 1 0 1]\n",
            " [1 0 1 0 1 0 1 0 1 0 1 0 1 0 1 0]\n",
            " [0 1 0 1 0 1 0 1 0 1 0 1 0 1 0 1]\n",
            " [1 0 1 0 1 0 1 0 1 0 1 0 1 0 1 0]\n",
            " [0 1 0 1 0 1 0 1 0 1 0 1 0 1 0 1]\n",
            " [1 0 1 0 1 0 1 0 1 0 1 0 1 0 1 0]\n",
            " [0 1 0 1 0 1 0 1 0 1 0 1 0 1 0 1]\n",
            " [1 0 1 0 1 0 1 0 1 0 1 0 1 0 1 0]\n",
            " [0 1 0 1 0 1 0 1 0 1 0 1 0 1 0 1]\n",
            " [1 0 1 0 1 0 1 0 1 0 1 0 1 0 1 0]\n",
            " [0 1 0 1 0 1 0 1 0 1 0 1 0 1 0 1]\n",
            " [1 0 1 0 1 0 1 0 1 0 1 0 1 0 1 0]\n",
            " [0 1 0 1 0 1 0 1 0 1 0 1 0 1 0 1]\n",
            " [1 0 1 0 1 0 1 0 1 0 1 0 1 0 1 0]\n",
            " [0 1 0 1 0 1 0 1 0 1 0 1 0 1 0 1]\n",
            " [1 0 1 0 1 0 1 0 1 0 1 0 1 0 1 0]]\n"
          ]
        }
      ]
    },
    {
      "cell_type": "code",
      "source": [
        "# 25 Normalize a 5x5 random matrix\n",
        "random_matrix = np.random.random((5, 5))\n",
        "normalized_matrix = (random_matrix - np.mean(random_matrix)) / np.std(random_matrix)\n",
        "print(normalized_matrix)"
      ],
      "metadata": {
        "colab": {
          "base_uri": "https://localhost:8080/"
        },
        "id": "hz6R5ipgZMY5",
        "outputId": "b9778d04-eaa1-45b0-90fa-89cac3e8be62"
      },
      "execution_count": 123,
      "outputs": [
        {
          "output_type": "stream",
          "name": "stdout",
          "text": [
            "[[-1.3986773  -1.28261938  1.22112424  0.72572494  1.0195727 ]\n",
            " [-0.60322693  0.31436002  0.92222187  0.98976125  1.61680904]\n",
            " [ 1.32451969  1.13766423  0.17078086  0.22940586  0.00575242]\n",
            " [ 0.12644154 -0.61419492  0.09413572 -1.17549048 -0.73113231]\n",
            " [-0.98244419 -0.93792236 -1.58644094 -1.60683714  1.02071157]]\n"
          ]
        }
      ]
    },
    {
      "cell_type": "code",
      "source": [
        "# 26. Create a custom dtype that describes a color as four unsigned bytes\n",
        "color = np.dtype([(\"r\", np.ubyte, 1),\n",
        "                  (\"g\", np.ubyte, 1),\n",
        "                  (\"b\", np.ubyte, 1),\n",
        "                  (\"a\", np.ubyte, 1)])\n",
        "print(color)"
      ],
      "metadata": {
        "colab": {
          "base_uri": "https://localhost:8080/"
        },
        "id": "pOo0ECThaAgH",
        "outputId": "f3f2eb11-2c56-4176-a040-32fbeb48cce9"
      },
      "execution_count": 124,
      "outputs": [
        {
          "output_type": "stream",
          "name": "stdout",
          "text": [
            "[('r', 'u1'), ('g', 'u1'), ('b', 'u1'), ('a', 'u1')]\n"
          ]
        },
        {
          "output_type": "stream",
          "name": "stderr",
          "text": [
            "<ipython-input-124-e3c9800a7da0>:2: FutureWarning: Passing (type, 1) or '1type' as a synonym of type is deprecated; in a future version of numpy, it will be understood as (type, (1,)) / '(1,)type'.\n",
            "  color = np.dtype([(\"r\", np.ubyte, 1),\n"
          ]
        }
      ]
    },
    {
      "cell_type": "code",
      "source": [
        "# 26. Multiply a 5x3 matrix by a 3x2 matrix (real matrix product)\n",
        "\n",
        "a = np.random.random((5, 3))\n",
        "print('this is a:', a)\n",
        "b = np.random.random((3, 2))\n",
        "print('this is b:', b)\n",
        "c = np.dot(a, b)\n",
        "print('this is a x b:', c)"
      ],
      "metadata": {
        "colab": {
          "base_uri": "https://localhost:8080/"
        },
        "id": "g3NC8IBfaNYs",
        "outputId": "aab93f95-37a9-4ac0-ab45-1831a22976c6"
      },
      "execution_count": 130,
      "outputs": [
        {
          "output_type": "stream",
          "name": "stdout",
          "text": [
            "this is a: [[0.26653075 0.09420055 0.99021657]\n",
            " [0.34433938 0.98172857 0.62404378]\n",
            " [0.32440118 0.6398265  0.56010689]\n",
            " [0.90886872 0.19424812 0.7686626 ]\n",
            " [0.2058996  0.47973713 0.72750595]]\n",
            "this is b: [[0.0503079  0.35387324]\n",
            " [0.49607293 0.59298134]\n",
            " [0.93033536 0.59298701]]\n",
            "this is a x b: [[0.98137244 0.73736284]\n",
            " [1.08490195 1.07404908]\n",
            " [0.8548078  0.82633819]\n",
            " [0.85719851 0.89261677]\n",
            " [0.92516749 0.78873911]]\n"
          ]
        }
      ]
    },
    {
      "cell_type": "code",
      "source": [
        "# 26. Given a 1D array, negate all elements which are between 3 and 8, in place.\n",
        "array = np.arange(11)\n",
        "print(array)\n",
        "array[(3 < array) & (array < 8)] *= -1\n",
        "print(array)"
      ],
      "metadata": {
        "colab": {
          "base_uri": "https://localhost:8080/"
        },
        "id": "OPsaAZCta3yk",
        "outputId": "ce66a217-b034-44b9-92a6-a43f363c28b0"
      },
      "execution_count": 131,
      "outputs": [
        {
          "output_type": "stream",
          "name": "stdout",
          "text": [
            "[ 0  1  2  3  4  5  6  7  8  9 10]\n",
            "[ 0  1  2  3 -4 -5 -6 -7  8  9 10]\n"
          ]
        }
      ]
    }
  ]
}